{
 "cells": [
  {
   "cell_type": "markdown",
   "id": "vmF9RdlxEv3c",
   "metadata": {
    "id": "vmF9RdlxEv3c"
   },
   "source": [
    "## Problem Cats vs. Dogs "
   ]
  },
  {
   "cell_type": "code",
   "execution_count": 1,
   "id": "Upu7RUxTEv3c",
   "metadata": {
    "execution": {
     "iopub.execute_input": "2022-12-04T16:55:03.818296Z",
     "iopub.status.busy": "2022-12-04T16:55:03.817911Z",
     "iopub.status.idle": "2022-12-04T16:55:10.231605Z",
     "shell.execute_reply": "2022-12-04T16:55:10.230567Z",
     "shell.execute_reply.started": "2022-12-04T16:55:03.818262Z"
    },
    "id": "Upu7RUxTEv3c"
   },
   "outputs": [],
   "source": [
    "import os, cv2, random\n",
    "import numpy as np\n",
    "import pandas as pd\n",
    "import seaborn as sns\n",
    "import matplotlib.pyplot as plt\n",
    "from sklearn.model_selection import train_test_split\n",
    "from sklearn.metrics import classification_report\n",
    "from tqdm import tqdm\n",
    "from random import shuffle \n",
    "from IPython.display import SVG\n",
    "from keras.utils.vis_utils import model_to_dot\n",
    "from tensorflow.keras.applications import ResNet50,Xception,VGG16,VGG19\n",
    "from tensorflow.keras.models import Sequential\n",
    "from tensorflow.keras.layers import Dense, Flatten, GlobalAveragePooling2D\n",
    "%matplotlib inline "
   ]
  },
  {
   "cell_type": "code",
   "execution_count": 2,
   "id": "PgYnUSR5Ev3d",
   "metadata": {
    "execution": {
     "iopub.execute_input": "2022-12-04T16:55:10.234371Z",
     "iopub.status.busy": "2022-12-04T16:55:10.233679Z",
     "iopub.status.idle": "2022-12-04T16:55:10.240712Z",
     "shell.execute_reply": "2022-12-04T16:55:10.239513Z",
     "shell.execute_reply.started": "2022-12-04T16:55:10.234309Z"
    },
    "id": "PgYnUSR5Ev3d"
   },
   "outputs": [],
   "source": [
    "TEST_SIZE = 0.5\n",
    "RANDOM_STATE = 2018\n",
    "BATCH_SIZE = 64\n",
    "NO_EPOCHS = 10\n",
    "NUM_CLASSES = 2\n",
    "SAMPLE_SIZE = 20000\n",
    "PATH = '/'\n",
    "TRAIN_FOLDER = './train/'\n",
    "TEST_FOLDER =  './test/'\n",
    "IMG_SIZE = 224"
   ]
  },
  {
   "cell_type": "code",
   "execution_count": 3,
   "id": "YZocOGVpEv3d",
   "metadata": {
    "execution": {
     "iopub.execute_input": "2022-12-04T16:55:10.243035Z",
     "iopub.status.busy": "2022-12-04T16:55:10.242625Z",
     "iopub.status.idle": "2022-12-04T16:55:31.101701Z",
     "shell.execute_reply": "2022-12-04T16:55:31.100659Z",
     "shell.execute_reply.started": "2022-12-04T16:55:10.242998Z"
    },
    "id": "YZocOGVpEv3d"
   },
   "outputs": [],
   "source": [
    "train_image_path = os.path.join(PATH, \"train.zip\")\n",
    "test_image_path = os.path.join(PATH, \"test.zip\")\n",
    "import zipfile\n",
    "with zipfile.ZipFile(train_image_path,\"r\") as z:\n",
    "    z.extractall(\".\")\n",
    "with zipfile.ZipFile(test_image_path,\"r\") as z:\n",
    "    z.extractall(\".\")"
   ]
  },
  {
   "cell_type": "code",
   "execution_count": 4,
   "id": "iOw5VqeTEv3d",
   "metadata": {
    "execution": {
     "iopub.execute_input": "2022-12-04T16:55:31.104947Z",
     "iopub.status.busy": "2022-12-04T16:55:31.104563Z",
     "iopub.status.idle": "2022-12-04T16:55:31.131340Z",
     "shell.execute_reply": "2022-12-04T16:55:31.130475Z",
     "shell.execute_reply.started": "2022-12-04T16:55:31.104909Z"
    },
    "id": "iOw5VqeTEv3d"
   },
   "outputs": [],
   "source": [
    "train_image_list = os.listdir('./train/')[0:SAMPLE_SIZE]\n",
    "test_image_list = os.listdir('./test/')"
   ]
  },
  {
   "cell_type": "code",
   "execution_count": 5,
   "id": "zaXmnrWSEv3d",
   "metadata": {
    "execution": {
     "iopub.execute_input": "2022-12-04T16:55:31.134707Z",
     "iopub.status.busy": "2022-12-04T16:55:31.134419Z",
     "iopub.status.idle": "2022-12-04T16:55:31.385077Z",
     "shell.execute_reply": "2022-12-04T16:55:31.383747Z",
     "shell.execute_reply.started": "2022-12-04T16:55:31.134673Z"
    },
    "id": "zaXmnrWSEv3d"
   },
   "outputs": [],
   "source": [
    "def label_pet_image_one_hot_encoder(img):\n",
    "    pet = img.split('.')[-3]\n",
    "    if pet == 'cat': return [1,0]\n",
    "    elif pet == 'dog': return [0,1]"
   ]
  },
  {
   "cell_type": "code",
   "execution_count": 6,
   "id": "dpfYNUl5Ev3d",
   "metadata": {
    "execution": {
     "iopub.execute_input": "2022-12-04T16:55:31.388430Z",
     "iopub.status.busy": "2022-12-04T16:55:31.387554Z",
     "iopub.status.idle": "2022-12-04T16:55:31.396761Z",
     "shell.execute_reply": "2022-12-04T16:55:31.395667Z",
     "shell.execute_reply.started": "2022-12-04T16:55:31.388388Z"
    },
    "id": "dpfYNUl5Ev3d"
   },
   "outputs": [],
   "source": [
    "def process_data(data_image_list, DATA_FOLDER, isTrain=True):\n",
    "    data_df = []\n",
    "    for img in tqdm(data_image_list):\n",
    "        path = os.path.join(DATA_FOLDER,img)\n",
    "        if(isTrain):\n",
    "            label = label_pet_image_one_hot_encoder(img)\n",
    "        else:\n",
    "            label = img.split('.')[0]\n",
    "        img = cv2.imread(path,cv2.IMREAD_COLOR)\n",
    "        img = cv2.resize(img, (IMG_SIZE,IMG_SIZE))\n",
    "        data_df.append([np.array(img),np.array(label)])\n",
    "    shuffle(data_df)\n",
    "    return data_df"
   ]
  },
  {
   "cell_type": "code",
   "execution_count": 7,
   "id": "9JGckkRSEv3e",
   "metadata": {
    "colab": {
     "base_uri": "https://localhost:8080/",
     "height": 337
    },
    "execution": {
     "iopub.execute_input": "2022-12-04T16:55:31.400443Z",
     "iopub.status.busy": "2022-12-04T16:55:31.400118Z",
     "iopub.status.idle": "2022-12-04T16:55:31.663191Z",
     "shell.execute_reply": "2022-12-04T16:55:31.662206Z",
     "shell.execute_reply.started": "2022-12-04T16:55:31.400415Z"
    },
    "id": "9JGckkRSEv3e",
    "outputId": "b441ef4c-d857-4f55-e7dc-28c17ed5f5c9"
   },
   "outputs": [
    {
     "name": "stderr",
     "output_type": "stream",
     "text": [
      "/usr/local/lib/python3.7/dist-packages/seaborn/_decorators.py:43: FutureWarning: Pass the following variable as a keyword arg: x. From version 0.12, the only valid positional argument will be `data`, and passing other arguments without an explicit keyword will result in an error or misinterpretation.\n",
      "  FutureWarning\n"
     ]
    },
    {
     "data": {
      "image/png": "[encoded data removed]",
      "text/plain": [
       "<Figure size 432x288 with 1 Axes>"
      ]
     },
     "metadata": {
      "needs_background": "light"
     },
     "output_type": "display_data"
    }
   ],
   "source": [
    "def plot_image_list_count(data_image_list):\n",
    "    labels = []\n",
    "    for img in data_image_list:\n",
    "        labels.append(img.split('.')[-3])\n",
    "    sns.countplot(labels)\n",
    "    plt.title('Cats and Dogs')\n",
    "    \n",
    "plot_image_list_count(train_image_list)"
   ]
  },
  {
   "cell_type": "code",
   "execution_count": 8,
   "id": "gRhKIH2KEv3e",
   "metadata": {
    "colab": {
     "base_uri": "https://localhost:8080/",
     "height": 0
    },
    "execution": {
     "iopub.execute_input": "2022-12-04T16:55:31.665313Z",
     "iopub.status.busy": "2022-12-04T16:55:31.664628Z",
     "iopub.status.idle": "2022-12-04T16:56:14.788372Z",
     "shell.execute_reply": "2022-12-04T16:56:14.787316Z",
     "shell.execute_reply.started": "2022-12-04T16:55:31.665272Z"
    },
    "id": "gRhKIH2KEv3e",
    "outputId": "f68e9802-b809-4e2a-b143-613427164e66"
   },
   "outputs": [
    {
     "name": "stderr",
     "output_type": "stream",
     "text": [
      "100%|██████████| 20000/20000 [00:56<00:00, 355.89it/s]\n"
     ]
    }
   ],
   "source": [
    "train = process_data(train_image_list, TRAIN_FOLDER)"
   ]
  },
  {
   "cell_type": "code",
   "execution_count": 9,
   "id": "QlthSsw-Ev3e",
   "metadata": {
    "colab": {
     "base_uri": "https://localhost:8080/",
     "height": 0
    },
    "execution": {
     "iopub.execute_input": "2022-12-04T16:56:14.790651Z",
     "iopub.status.busy": "2022-12-04T16:56:14.790000Z",
     "iopub.status.idle": "2022-12-04T16:56:41.470509Z",
     "shell.execute_reply": "2022-12-04T16:56:41.469427Z",
     "shell.execute_reply.started": "2022-12-04T16:56:14.790595Z"
    },
    "id": "QlthSsw-Ev3e",
    "outputId": "67d69e4e-ed6b-407b-cd07-3b6a2b1812d9"
   },
   "outputs": [
    {
     "name": "stderr",
     "output_type": "stream",
     "text": [
      "100%|██████████| 12500/12500 [00:34<00:00, 358.93it/s]\n"
     ]
    }
   ],
   "source": [
    "test = process_data(test_image_list, TEST_FOLDER, False)\n"
   ]
  },
  {
   "cell_type": "code",
   "execution_count": 10,
   "id": "LKtcGvKuEv3e",
   "metadata": {
    "execution": {
     "iopub.execute_input": "2022-12-04T16:56:41.474941Z",
     "iopub.status.busy": "2022-12-04T16:56:41.474271Z",
     "iopub.status.idle": "2022-12-04T16:56:42.422437Z",
     "shell.execute_reply": "2022-12-04T16:56:42.421406Z",
     "shell.execute_reply.started": "2022-12-04T16:56:41.474900Z"
    },
    "id": "LKtcGvKuEv3e"
   },
   "outputs": [],
   "source": [
    "X = np.array([i[0] for i in train]).reshape(-1,IMG_SIZE,IMG_SIZE,3)\n",
    "y = np.array([i[1] for i in train])"
   ]
  },
  {
   "cell_type": "code",
   "execution_count": 32,
   "id": "7qG77hDMEv3f",
   "metadata": {
    "execution": {
     "iopub.execute_input": "2022-12-04T16:56:42.424836Z",
     "iopub.status.busy": "2022-12-04T16:56:42.423812Z",
     "iopub.status.idle": "2022-12-04T16:56:49.205071Z",
     "shell.execute_reply": "2022-12-04T16:56:49.204048Z",
     "shell.execute_reply.started": "2022-12-04T16:56:42.424796Z"
    },
    "id": "7qG77hDMEv3f"
   },
   "outputs": [],
   "source": [
    "model_ResNet50 = Sequential()\n",
    "model_ResNet50.add(ResNet50(\n",
    "    weights='imagenet',\n",
    "    pooling='max',\n",
    "    include_top=False,\n",
    "                   \n",
    "))\n",
    "model_ResNet50.add(Dense(NUM_CLASSES, activation='sigmoid'))\n",
    "\n",
    "model_ResNet50.layers[0].trainable = False\n"
   ]
  },
  {
   "cell_type": "code",
   "execution_count": 33,
   "id": "udAcja5-Ev3f",
   "metadata": {
    "execution": {
     "iopub.execute_input": "2022-12-04T16:56:49.207334Z",
     "iopub.status.busy": "2022-12-04T16:56:49.206692Z",
     "iopub.status.idle": "2022-12-04T16:56:49.222499Z",
     "shell.execute_reply": "2022-12-04T16:56:49.221395Z",
     "shell.execute_reply.started": "2022-12-04T16:56:49.207292Z"
    },
    "id": "udAcja5-Ev3f"
   },
   "outputs": [],
   "source": [
    "model_ResNet50.compile(optimizer='adam', loss='binary_crossentropy', metrics=['accuracy'])"
   ]
  },
  {
   "cell_type": "code",
   "execution_count": 34,
   "id": "Am6khqRIEv3f",
   "metadata": {
    "colab": {
     "base_uri": "https://localhost:8080/",
     "height": 0
    },
    "execution": {
     "iopub.execute_input": "2022-12-04T16:56:49.226006Z",
     "iopub.status.busy": "2022-12-04T16:56:49.225738Z",
     "iopub.status.idle": "2022-12-04T16:56:49.235331Z",
     "shell.execute_reply": "2022-12-04T16:56:49.234337Z",
     "shell.execute_reply.started": "2022-12-04T16:56:49.225981Z"
    },
    "id": "Am6khqRIEv3f",
    "outputId": "1a965b3d-1a82-4676-81cc-afd075d29a1c"
   },
   "outputs": [
    {
     "name": "stdout",
     "output_type": "stream",
     "text": [
      "Model: \"sequential_4\"\n",
      "_________________________________________________________________\n",
      " Layer (type)                Output Shape              Param #   \n",
      "=================================================================\n",
      " resnet50 (Functional)       (None, 2048)              23587712  \n",
      "                                                                 \n",
      " dense_4 (Dense)             (None, 2)                 4098      \n",
      "                                                                 \n",
      "=================================================================\n",
      "Total params: 23,591,810\n",
      "Trainable params: 4,098\n",
      "Non-trainable params: 23,587,712\n",
      "_________________________________________________________________\n"
     ]
    }
   ],
   "source": [
    "model_ResNet50.summary()"
   ]
  },
  {
   "cell_type": "code",
   "execution_count": 14,
   "id": "eTqawcGZEv3f",
   "metadata": {
    "execution": {
     "iopub.execute_input": "2022-12-04T16:56:49.237238Z",
     "iopub.status.busy": "2022-12-04T16:56:49.236631Z",
     "iopub.status.idle": "2022-12-04T16:56:52.845137Z",
     "shell.execute_reply": "2022-12-04T16:56:52.843841Z",
     "shell.execute_reply.started": "2022-12-04T16:56:49.237184Z"
    },
    "id": "eTqawcGZEv3f"
   },
   "outputs": [],
   "source": [
    "X_train, X_val, y_train, y_val = train_test_split(X, y, test_size=TEST_SIZE, random_state=RANDOM_STATE)"
   ]
  },
  {
   "cell_type": "code",
   "execution_count": 15,
   "id": "24HjehEHEv3f",
   "metadata": {
    "colab": {
     "base_uri": "https://localhost:8080/",
     "height": 0
    },
    "execution": {
     "iopub.execute_input": "2022-12-04T16:56:52.847622Z",
     "iopub.status.busy": "2022-12-04T16:56:52.847221Z",
     "iopub.status.idle": "2022-12-04T16:56:52.859626Z",
     "shell.execute_reply": "2022-12-04T16:56:52.858467Z",
     "shell.execute_reply.started": "2022-12-04T16:56:52.847575Z"
    },
    "id": "24HjehEHEv3f",
    "outputId": "00ccb85a-44a8-4e50-e6e0-feacef247f64"
   },
   "outputs": [
    {
     "data": {
      "text/plain": [
       "(10000, 224, 224, 3)"
      ]
     },
     "execution_count": 15,
     "metadata": {},
     "output_type": "execute_result"
    }
   ],
   "source": [
    "X_train.shape"
   ]
  },
  {
   "cell_type": "code",
   "execution_count": 16,
   "id": "m0ItTgUEEv3g",
   "metadata": {
    "colab": {
     "base_uri": "https://localhost:8080/",
     "height": 0
    },
    "execution": {
     "iopub.execute_input": "2022-12-04T16:56:52.862018Z",
     "iopub.status.busy": "2022-12-04T16:56:52.861406Z",
     "iopub.status.idle": "2022-12-04T16:56:52.872198Z",
     "shell.execute_reply": "2022-12-04T16:56:52.870891Z",
     "shell.execute_reply.started": "2022-12-04T16:56:52.861978Z"
    },
    "id": "m0ItTgUEEv3g",
    "outputId": "1b029d48-8910-4370-dfdd-89615e28d71a"
   },
   "outputs": [
    {
     "data": {
      "text/plain": [
       "array([[1, 0],\n",
       "       [1, 0],\n",
       "       [0, 1],\n",
       "       ...,\n",
       "       [1, 0],\n",
       "       [1, 0],\n",
       "       [1, 0]])"
      ]
     },
     "execution_count": 16,
     "metadata": {},
     "output_type": "execute_result"
    }
   ],
   "source": [
    "y_train"
   ]
  },
  {
   "cell_type": "code",
   "execution_count": 35,
   "id": "P9BlGhKYEv3g",
   "metadata": {
    "colab": {
     "base_uri": "https://localhost:8080/",
     "height": 0
    },
    "execution": {
     "iopub.execute_input": "2022-12-04T16:56:52.874432Z",
     "iopub.status.busy": "2022-12-04T16:56:52.874057Z"
    },
    "id": "P9BlGhKYEv3g",
    "outputId": "ef7f7ef1-1927-443f-ac55-69d1752264f4"
   },
   "outputs": [
    {
     "name": "stdout",
     "output_type": "stream",
     "text": [
      "Epoch 1/10\n",
      "157/157 [==============================] - 809s 5s/step - loss: 0.2648 - accuracy: 0.9576 - val_loss: 0.1100 - val_accuracy: 0.9807\n",
      "Epoch 2/10\n",
      "157/157 [==============================] - 768s 5s/step - loss: 0.1033 - accuracy: 0.9813 - val_loss: 0.0909 - val_accuracy: 0.9820\n",
      "Epoch 3/10\n",
      "157/157 [==============================] - 775s 5s/step - loss: 0.0697 - accuracy: 0.9856 - val_loss: 0.1469 - val_accuracy: 0.9750\n",
      "Epoch 4/10\n",
      "157/157 [==============================] - 785s 5s/step - loss: 0.0654 - accuracy: 0.9855 - val_loss: 0.1077 - val_accuracy: 0.9833\n",
      "Epoch 5/10\n",
      "157/157 [==============================] - 760s 5s/step - loss: 0.0450 - accuracy: 0.9899 - val_loss: 0.1253 - val_accuracy: 0.9825\n",
      "Epoch 6/10\n",
      "157/157 [==============================] - 766s 5s/step - loss: 0.0314 - accuracy: 0.9924 - val_loss: 0.0799 - val_accuracy: 0.9836\n",
      "Epoch 7/10\n",
      "157/157 [==============================] - 760s 5s/step - loss: 0.0257 - accuracy: 0.9957 - val_loss: 0.1170 - val_accuracy: 0.9801\n",
      "Epoch 8/10\n",
      "157/157 [==============================] - 762s 5s/step - loss: 0.0190 - accuracy: 0.9954 - val_loss: 0.0814 - val_accuracy: 0.9836\n",
      "Epoch 9/10\n",
      "157/157 [==============================] - 759s 5s/step - loss: 0.0163 - accuracy: 0.9962 - val_loss: 0.0852 - val_accuracy: 0.9839\n",
      "Epoch 10/10\n",
      "157/157 [==============================] - 752s 5s/step - loss: 0.0130 - accuracy: 0.9969 - val_loss: 0.0881 - val_accuracy: 0.9836\n"
     ]
    }
   ],
   "source": [
    "train_model = model_ResNet50.fit(X_train, y_train,\n",
    "                  batch_size=BATCH_SIZE,\n",
    "                  epochs=NO_EPOCHS,\n",
    "                  verbose=1,\n",
    "                  validation_data=(X_val, y_val))"
   ]
  },
  {
   "cell_type": "code",
   "execution_count": 17,
   "id": "xlITtEmyEv3g",
   "metadata": {
    "id": "xlITtEmyEv3g"
   },
   "outputs": [],
   "source": []
  },
  {
   "cell_type": "code",
   "execution_count": 36,
   "id": "pG7_ASytEv3g",
   "metadata": {
    "colab": {
     "base_uri": "https://localhost:8080/",
     "height": 0
    },
    "id": "pG7_ASytEv3g",
    "outputId": "79a806f0-e44e-4186-e0bd-b4c388937ebe"
   },
   "outputs": [
    {
     "name": "stdout",
     "output_type": "stream",
     "text": [
      "Validation loss: 0.08812825381755829\n",
      "Validation accuracy: 0.9836000204086304\n"
     ]
    }
   ],
   "source": [
    "score =  model_ResNet50.evaluate(X_val, y_val, verbose=0)\n",
    "print('Validation loss:', score[0])\n",
    "print('Validation accuracy:', score[1])"
   ]
  },
  {
   "cell_type": "code",
   "execution_count": 23,
   "id": "_yyO_hRvEv3g",
   "metadata": {
    "colab": {
     "base_uri": "https://localhost:8080/",
     "height": 0
    },
    "id": "_yyO_hRvEv3g",
    "outputId": "727bb7b5-db8d-463b-c825-b702f467e077"
   },
   "outputs": [
    {
     "name": "stdout",
     "output_type": "stream",
     "text": [
      "Epoch 1/10\n",
      "157/157 [==============================] - 921s 6s/step - loss: 3408.6267 - accuracy: 0.5286 - val_loss: 711.4897 - val_accuracy: 0.6251\n",
      "Epoch 2/10\n",
      "157/157 [==============================] - 914s 6s/step - loss: 3047.3533 - accuracy: 0.5534 - val_loss: 5119.3457 - val_accuracy: 0.5317\n",
      "Epoch 3/10\n",
      "157/157 [==============================] - 903s 6s/step - loss: 2787.9124 - accuracy: 0.5673 - val_loss: 4845.9502 - val_accuracy: 0.4950\n",
      "Epoch 4/10\n",
      "157/157 [==============================] - 900s 6s/step - loss: 2735.8745 - accuracy: 0.5687 - val_loss: 1658.1110 - val_accuracy: 0.5683\n",
      "Epoch 5/10\n",
      "157/157 [==============================] - 888s 6s/step - loss: 2881.5237 - accuracy: 0.5681 - val_loss: 7915.5791 - val_accuracy: 0.5171\n",
      "Epoch 6/10\n",
      "157/157 [==============================] - 889s 6s/step - loss: 2750.0068 - accuracy: 0.5731 - val_loss: 1792.4728 - val_accuracy: 0.5779\n",
      "Epoch 7/10\n",
      "157/157 [==============================] - 912s 6s/step - loss: 2633.6035 - accuracy: 0.5778 - val_loss: 4088.8616 - val_accuracy: 0.5116\n",
      "Epoch 8/10\n",
      "157/157 [==============================] - 942s 6s/step - loss: 2516.3955 - accuracy: 0.5902 - val_loss: 9225.0566 - val_accuracy: 0.5076\n",
      "Epoch 9/10\n",
      "157/157 [==============================] - 944s 6s/step - loss: 2723.3638 - accuracy: 0.5827 - val_loss: 2114.2578 - val_accuracy: 0.5674\n",
      "Epoch 10/10\n",
      "157/157 [==============================] - 974s 6s/step - loss: 2576.4153 - accuracy: 0.5807 - val_loss: 1607.6879 - val_accuracy: 0.5921\n"
     ]
    }
   ],
   "source": [
    "model_Xception_1 = Sequential()\n",
    "model_Xception_1.add(Xception(\n",
    " \n",
    "    weights='imagenet',\n",
    "     pooling='max',\n",
    "    include_top=False,\n",
    "\n",
    "))\n",
    "model_Xception_1.add(Dense(NUM_CLASSES, activation='softmax'))\n",
    "\n",
    "model_Xception_1.layers[0].trainable = False\n",
    "model_Xception_1.compile(optimizer='sgd', loss='categorical_crossentropy', metrics=['accuracy'])\n",
    "train_model_Xcept = model_Xception_1.fit(X_train, y_train,\n",
    "                  batch_size=BATCH_SIZE,\n",
    "                  epochs=NO_EPOCHS,\n",
    "                  verbose=1,\n",
    "                  validation_data=(X_val, y_val))"
   ]
  },
  {
   "cell_type": "code",
   "execution_count": null,
   "id": "HpisCh58JRpx",
   "metadata": {
    "id": "HpisCh58JRpx"
   },
   "outputs": [],
   "source": []
  },
  {
   "cell_type": "code",
   "execution_count": 27,
   "id": "ivAK7PL-Ev3g",
   "metadata": {
    "colab": {
     "base_uri": "https://localhost:8080/",
     "height": 0
    },
    "id": "ivAK7PL-Ev3g",
    "outputId": "b5b03619-15cf-470b-b63a-6f701395a1ce"
   },
   "outputs": [
    {
     "name": "stdout",
     "output_type": "stream",
     "text": [
      "Validation loss: 0.37493592500686646\n",
      "Validation accuracy: 0.9868999719619751\n"
     ]
    }
   ],
   "source": [
    "score_Xcept =  model_Xception_1.evaluate(X_val, y_val, verbose=0)\n"
   ]
  },
  {
   "cell_type": "code",
   "execution_count": 29,
   "id": "kKxOh9ORdTSc",
   "metadata": {
    "colab": {
     "base_uri": "https://localhost:8080/",
     "height": 0
    },
    "id": "kKxOh9ORdTSc",
    "outputId": "4eea2f0f-bfef-432a-d633-9fcdab021975"
   },
   "outputs": [
    {
     "name": "stdout",
     "output_type": "stream",
     "text": [
      "Validation loss: 1607.6888427734375\n",
      "Validation accuracy: 0.5921000242233276\n"
     ]
    }
   ],
   "source": [
    "print('Validation loss:', score_Xcept[0])\n",
    "print('Validation accuracy:', score_Xcept[1])"
   ]
  },
  {
   "cell_type": "code",
   "execution_count": null,
   "id": "vuMCJFkJEv3h",
   "metadata": {
    "colab": {
     "base_uri": "https://localhost:8080/",
     "height": 0
    },
    "id": "vuMCJFkJEv3h",
    "outputId": "c14bb216-599a-4fdf-ca57-276bdfa3e5cd"
   },
   "outputs": [],
   "source": [
    "pred_list = []\n",
    "img_list = []\n",
    "for img in tqdm(test):\n",
    "    img_data = img[0]\n",
    "    img_idx = img[1]\n",
    "    data = img_data.reshape(-1,IMG_SIZE,IMG_SIZE,3)\n",
    "    predicted = model_ResNet50.predict([data])[0]\n",
    "    img_list.append(img_idx)\n",
    "    pred_list.append(predicted[1])\n",
    "    \n",
    "submission = pd.DataFrame({'id':img_list , 'label':pred_list})\n",
    "submission.head()\n",
    "submission.to_csv(\"submission.csv\", index=False)"
   ]
  },
  {
   "cell_type": "code",
   "execution_count": null,
   "id": "gNmrUvKS1_iK",
   "metadata": {
    "id": "gNmrUvKS1_iK"
   },
   "outputs": [],
   "source": []
  }
 ],
 "metadata": {
  "accelerator": "GPU",
  "colab": {
   "provenance": []
  },
  "gpuClass": "standard",
  "kernelspec": {
   "display_name": "Python 3 (ipykernel)",
   "language": "python",
   "name": "python3"
  },
  "language_info": {
   "codemirror_mode": {
    "name": "ipython",
    "version": 3
   },
   "file_extension": ".py",
   "mimetype": "text/x-python",
   "name": "python",
   "nbconvert_exporter": "python",
   "pygments_lexer": "ipython3",
   "version": "3.9.12"
  }
 },
 "nbformat": 4,
 "nbformat_minor": 5
}
